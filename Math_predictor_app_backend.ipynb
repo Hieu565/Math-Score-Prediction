{
  "nbformat": 4,
  "nbformat_minor": 0,
  "metadata": {
    "colab": {
      "provenance": [],
      "authorship_tag": "ABX9TyPc0bEuNSuei3Yw9WyNp1Tr",
      "include_colab_link": true
    },
    "kernelspec": {
      "name": "python3",
      "display_name": "Python 3"
    },
    "language_info": {
      "name": "python"
    }
  },
  "cells": [
    {
      "cell_type": "markdown",
      "metadata": {
        "id": "view-in-github",
        "colab_type": "text"
      },
      "source": [
        "<a href=\"https://colab.research.google.com/github/Hieu565/Math-Score-Prediction/blob/main/Math_predictor_app_backend.ipynb\" target=\"_parent\"><img src=\"https://colab.research.google.com/assets/colab-badge.svg\" alt=\"Open In Colab\"/></a>"
      ]
    },
    {
      "cell_type": "code",
      "execution_count": 105,
      "metadata": {
        "id": "BI0ml_Hr8SlT",
        "colab": {
          "base_uri": "https://localhost:8080/"
        },
        "outputId": "084d5b0f-89e2-4baa-9565-1a7ba496e187"
      },
      "outputs": [
        {
          "output_type": "stream",
          "name": "stdout",
          "text": [
            "Drive already mounted at /content/drive; to attempt to forcibly remount, call drive.mount(\"/content/drive\", force_remount=True).\n"
          ]
        }
      ],
      "source": [
        "# take files from drive\n",
        "from google.colab import drive\n",
        "drive.mount('/content/drive')"
      ]
    },
    {
      "cell_type": "code",
      "metadata": {
        "collapsed": true,
        "id": "d77d0026"
      },
      "source": [
        "%pip install skorch optuna streamlit -q"
      ],
      "execution_count": 106,
      "outputs": []
    },
    {
      "cell_type": "code",
      "source": [
        "streamlit_code = \"\"\"\n",
        "# import\n",
        "import pandas as pd\n",
        "import numpy as np\n",
        "import torch\n",
        "import torch.nn as nn\n",
        "import joblib\n",
        "import optuna\n",
        "import streamlit as st\n",
        "\n",
        "# load from drive\n",
        "random_forest_model_path='/content/drive/MyDrive/model_stability_results/best_random_forest_model.joblib'\n",
        "optuna_nn_model_path = '/content/drive/MyDrive/model_stability_results/optuna_neural_network_model.pth'\n",
        "preprocessor = '/content/drive/MyDrive/model_stability_results/preprocessor.pkl'\n",
        "\n",
        "# run the file again\n",
        "import requests\n",
        "\n",
        "# Google Sheet URL and export format\n",
        "sheet_url = \"https://docs.google.com/spreadsheets/d/13f0_u9eZR8m7Ro36jfQCs35fGCWubqjwil3Jdfbkwao/edit?gid=0#gid=0\"\n",
        "export_url = sheet_url.replace('/edit?gid=', '/export?format=csv&gid=')\n",
        "\n",
        "# Download the CSV\n",
        "response = requests.get(export_url)\n",
        "response.raise_for_status() # Check for errors\n",
        "\n",
        "# Save the CSV to a file\n",
        "csv_file_path = \"student_data.csv\"\n",
        "with open(csv_file_path, \"w\") as f:\n",
        "    f.write(response.text)\n",
        "\n",
        "print(f\"Downloaded data to {csv_file_path}\")\n",
        "\n",
        "# Load the data from the downloaded CSV\n",
        "data = pd.read_csv(csv_file_path)\n",
        "\n",
        "# Display the first few rows to confirm\n",
        "st.write(data.head())\n",
        "\n",
        "# reconstruct optuna model\n",
        "class StudentNN(nn.Module):\n",
        "  def __init__(self, input_dim, hidden1 = 56, hidden2 = 27, dropout = 0.2): # Modified hidden layer sizes\n",
        "    super(StudentNN, self).__init__()\n",
        "    self.fc1 = nn.Linear(input_dim, hidden1)\n",
        "    self.fc2 = nn.Linear(hidden1, hidden2)\n",
        "    self.fc3 = nn.Linear(hidden2, 1)\n",
        "    self.relu = nn.ReLU()\n",
        "    self.dropout = nn.Dropout(dropout)\n",
        "\n",
        "  def forward(self, x):\n",
        "    x = self.relu(self.fc1(x))\n",
        "    x = self.dropout(x)\n",
        "    x = self.relu(self.fc2(x))\n",
        "    x = self.dropout(x)\n",
        "    return self.fc3(x)\n",
        "\n",
        "device = torch.device('cpu')  # (use CPU for deployment)\n",
        "\n",
        "# preprocess\n",
        "preprocessor = joblib.load('/content/drive/MyDrive/model_stability_results/preprocessor.pkl')\n",
        "\n",
        "# recontruct random forest\n",
        "rf_model = joblib.load('/content/drive/MyDrive/model_stability_results/best_random_forest_model.joblib')\n",
        "\n",
        "# get input_dim from the preprocessor\n",
        "# Try to get the number of features from the preprocessor using get_feature_names_out()\n",
        "try:\n",
        "    input_dim = len(preprocessor.get_feature_names_out())\n",
        "except (AttributeError, TypeError):\n",
        "    try:\n",
        "        # Create a dummy DataFrame with appropriate numerical data types\n",
        "        # Use np.zeros with float dtype to ensure numerical compatibility\n",
        "        dummy_input = pd.DataFrame(np.zeros((1, len(preprocessor.feature_names_in_))), columns=preprocessor.feature_names_in_)\n",
        "        input_dim = preprocessor.transform(dummy_input).shape[1]\n",
        "    except AttributeError:\n",
        "        # If the above doesn't work, you might need to manually define input_dim\n",
        "        raise ValueError(\"Could not determine input_dim from preprocessor. Please manually set it.\")\n",
        "\n",
        "\n",
        "nn_model = StudentNN(input_dim).to(device)\n",
        "nn_model.load_state_dict(torch.load(optuna_nn_model_path, map_location=device))\n",
        "nn_model.eval()\n",
        "\n",
        "# build hybrid model\n",
        "\n",
        "class HybridModel:\n",
        "  def __init__(self, preprocessor, rf_model, nn_model, device='cpu', weight_rf=1, weight_nn=0):\n",
        "        self.preprocessor = preprocessor\n",
        "        self.rf_model = rf_model\n",
        "        self.nn_model = nn_model\n",
        "        self.device = device\n",
        "        self.weight_rf = weight_rf\n",
        "        self.weight_nn = weight_nn\n",
        "\n",
        "  def predict(self, X):\n",
        "        # 1️⃣ Preprocess input\n",
        "        X_processed = self.preprocessor.transform(X)\n",
        "\n",
        "        # 2️⃣ Random Forest prediction\n",
        "        rf_pred = self.rf_model.predict(X_processed)\n",
        "\n",
        "        # 3️⃣ Neural Network prediction\n",
        "        with torch.no_grad():\n",
        "            X_tensor = torch.tensor(X_processed, dtype=torch.float32).to(self.device)\n",
        "            nn_pred = self.nn_model(X_tensor).cpu().numpy().flatten()\n",
        "\n",
        "        # 4️⃣ Combine both\n",
        "        final_pred = (self.weight_rf * rf_pred) + (self.weight_nn * nn_pred)\n",
        "        return final_pred\n",
        "\n",
        "hybrid_model = HybridModel(preprocessor, rf_model, nn_model, device=device)\n",
        "\n",
        "# build steamlit UI\n",
        "st.title(\"📊 Student Performance Predictor\")\n",
        "\n",
        "st.write(\"Enter the student features below:\")\n",
        "\n",
        "# Feature input definitions\n",
        "feature_inputs = {\n",
        "    \"StudyHours\": st.slider(\"Study Hours\", 0.0, 24.0, 0.0, 0.5),\n",
        "    \"HomeworkCompletion\": st.selectbox(\"Homework Completion\", [\"0-20%\", \"20-40%\", \"40-60%\", \"60-80%\", \"80-100%\"]),\n",
        "    \"AttentionLevel\": st.selectbox(\"Attention Level\", [\"0-20%\", \"20-40%\", \"40-60%\", \"60-80%\", \"80-100%\"]),\n",
        "    \"LearningMethod\": st.multiselect(\"Learning Methods\", [\"Learn theory\", \"Do homework\", \"Discuss with friends\", \"Watch online videos\"]),\n",
        "    \"StudyRoutines\": st.selectbox(\"Study Routines\", [\"Every day\", \"Every week\", \"Only before test\"]),\n",
        "    \"HandleDifficultMethod\": st.multiselect(\"Handling Difficult Subjects\", [\"Use Internet or AI\", \"Assistance from teachers/friends\", \"Do on your own\", \"Give up\"])\n",
        "}\n",
        "\n",
        "# Convert inputs to DataFrame\n",
        "input_df = pd.DataFrame([feature_inputs])\n",
        "\n",
        "# Predict button\n",
        "if st.button(\"Predict Score\"):\n",
        "    prediction = hybrid_model.predict(input_df)\n",
        "    st.success(f\"Predicted Student Score: {prediction[0]:.2f}\")\n",
        "\n",
        "\"\"\""
      ],
      "metadata": {
        "id": "cFmrB989L8mN"
      },
      "execution_count": 109,
      "outputs": []
    },
    {
      "cell_type": "code",
      "source": [
        "with open(\"student_predictor_app.py\", \"w\") as f:\n",
        "    f.write(streamlit_code)"
      ],
      "metadata": {
        "id": "_kMuYnuXMhIl"
      },
      "execution_count": 139,
      "outputs": []
    }
  ]
}
